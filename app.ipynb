{
 "cells": [
  {
   "cell_type": "markdown",
   "metadata": {},
   "source": [
    "# Prepare Library"
   ]
  },
  {
   "cell_type": "code",
   "execution_count": 1,
   "metadata": {},
   "outputs": [],
   "source": [
    "import pandas as pd\n",
    "import numpy as np\n",
    "import matplotlib.pyplot as plt"
   ]
  },
  {
   "cell_type": "markdown",
   "metadata": {},
   "source": [
    "# Define Initial And Process Columns"
   ]
  },
  {
   "cell_type": "code",
   "execution_count": 13,
   "metadata": {},
   "outputs": [],
   "source": [
    "columns_jakarta = [\"periode_data\",\"tanggal\",\"pm_10\",\"pm_duakomalima\",\"so2\",\"co\",\"o3\",\"no2\",\"max\",\"critical\",\"categori\",\"lokasi_spku\"]\n",
    "columns_yogyakarta = [\"No.\",\"Waktu\",\"PM10\",\"PM2.5\",\"SO2\",\"CO\",\"O3\",\"NO2\",\"Critical_Component\"]"
   ]
  },
  {
   "cell_type": "markdown",
   "metadata": {},
   "source": [
    "# Load data and transform to similiar features"
   ]
  },
  {
   "cell_type": "code",
   "execution_count": 18,
   "metadata": {},
   "outputs": [
    {
     "data": {
      "text/html": [
       "<div>\n",
       "<style scoped>\n",
       "    .dataframe tbody tr th:only-of-type {\n",
       "        vertical-align: middle;\n",
       "    }\n",
       "\n",
       "    .dataframe tbody tr th {\n",
       "        vertical-align: top;\n",
       "    }\n",
       "\n",
       "    .dataframe thead th {\n",
       "        text-align: right;\n",
       "    }\n",
       "</style>\n",
       "<table border=\"1\" class=\"dataframe\">\n",
       "  <thead>\n",
       "    <tr style=\"text-align: right;\">\n",
       "      <th></th>\n",
       "      <th>pm10</th>\n",
       "      <th>pm2_5</th>\n",
       "      <th>so2</th>\n",
       "      <th>co</th>\n",
       "      <th>o3</th>\n",
       "      <th>no2</th>\n",
       "      <th>kualitas</th>\n",
       "    </tr>\n",
       "  </thead>\n",
       "  <tbody>\n",
       "    <tr>\n",
       "      <th>0</th>\n",
       "      <td>54</td>\n",
       "      <td>73</td>\n",
       "      <td>56</td>\n",
       "      <td>24</td>\n",
       "      <td>23</td>\n",
       "      <td>24</td>\n",
       "      <td>SEDANG</td>\n",
       "    </tr>\n",
       "    <tr>\n",
       "      <th>1</th>\n",
       "      <td>40</td>\n",
       "      <td>64</td>\n",
       "      <td>57</td>\n",
       "      <td>21</td>\n",
       "      <td>17</td>\n",
       "      <td>24</td>\n",
       "      <td>SEDANG</td>\n",
       "    </tr>\n",
       "    <tr>\n",
       "      <th>2</th>\n",
       "      <td>75</td>\n",
       "      <td>129</td>\n",
       "      <td>45</td>\n",
       "      <td>25</td>\n",
       "      <td>71</td>\n",
       "      <td>26</td>\n",
       "      <td>TIDAK SEHAT</td>\n",
       "    </tr>\n",
       "    <tr>\n",
       "      <th>3</th>\n",
       "      <td>66</td>\n",
       "      <td>110</td>\n",
       "      <td>47</td>\n",
       "      <td>16</td>\n",
       "      <td>61</td>\n",
       "      <td>23</td>\n",
       "      <td>TIDAK SEHAT</td>\n",
       "    </tr>\n",
       "    <tr>\n",
       "      <th>4</th>\n",
       "      <td>56</td>\n",
       "      <td>78</td>\n",
       "      <td>49</td>\n",
       "      <td>11</td>\n",
       "      <td>60</td>\n",
       "      <td>13</td>\n",
       "      <td>SEDANG</td>\n",
       "    </tr>\n",
       "  </tbody>\n",
       "</table>\n",
       "</div>"
      ],
      "text/plain": [
       "   pm10  pm2_5  so2  co  o3  no2     kualitas\n",
       "0    54     73   56  24  23   24       SEDANG\n",
       "1    40     64   57  21  17   24       SEDANG\n",
       "2    75    129   45  25  71   26  TIDAK SEHAT\n",
       "3    66    110   47  16  61   23  TIDAK SEHAT\n",
       "4    56     78   49  11  60   13       SEDANG"
      ]
     },
     "metadata": {},
     "output_type": "display_data"
    },
    {
     "data": {
      "text/html": [
       "<div>\n",
       "<style scoped>\n",
       "    .dataframe tbody tr th:only-of-type {\n",
       "        vertical-align: middle;\n",
       "    }\n",
       "\n",
       "    .dataframe tbody tr th {\n",
       "        vertical-align: top;\n",
       "    }\n",
       "\n",
       "    .dataframe thead th {\n",
       "        text-align: right;\n",
       "    }\n",
       "</style>\n",
       "<table border=\"1\" class=\"dataframe\">\n",
       "  <thead>\n",
       "    <tr style=\"text-align: right;\">\n",
       "      <th></th>\n",
       "      <th>pm10</th>\n",
       "      <th>pm2_5</th>\n",
       "      <th>so2</th>\n",
       "      <th>co</th>\n",
       "      <th>o3</th>\n",
       "      <th>no2</th>\n",
       "    </tr>\n",
       "  </thead>\n",
       "  <tbody>\n",
       "    <tr>\n",
       "      <th>0</th>\n",
       "      <td>16.2</td>\n",
       "      <td>0.0</td>\n",
       "      <td>7.6</td>\n",
       "      <td>18.2</td>\n",
       "      <td>1.0</td>\n",
       "      <td>11.0</td>\n",
       "    </tr>\n",
       "    <tr>\n",
       "      <th>1</th>\n",
       "      <td>10.4</td>\n",
       "      <td>0.0</td>\n",
       "      <td>7.5</td>\n",
       "      <td>16.0</td>\n",
       "      <td>1.0</td>\n",
       "      <td>11.0</td>\n",
       "    </tr>\n",
       "    <tr>\n",
       "      <th>2</th>\n",
       "      <td>10.7</td>\n",
       "      <td>0.0</td>\n",
       "      <td>8.6</td>\n",
       "      <td>16.5</td>\n",
       "      <td>1.0</td>\n",
       "      <td>10.5</td>\n",
       "    </tr>\n",
       "    <tr>\n",
       "      <th>3</th>\n",
       "      <td>19.3</td>\n",
       "      <td>0.0</td>\n",
       "      <td>8.5</td>\n",
       "      <td>18.9</td>\n",
       "      <td>0.8</td>\n",
       "      <td>10.0</td>\n",
       "    </tr>\n",
       "    <tr>\n",
       "      <th>4</th>\n",
       "      <td>0.0</td>\n",
       "      <td>0.0</td>\n",
       "      <td>0.4</td>\n",
       "      <td>14.4</td>\n",
       "      <td>0.0</td>\n",
       "      <td>6.4</td>\n",
       "    </tr>\n",
       "  </tbody>\n",
       "</table>\n",
       "</div>"
      ],
      "text/plain": [
       "   pm10  pm2_5  so2    co   o3   no2\n",
       "0  16.2    0.0  7.6  18.2  1.0  11.0\n",
       "1  10.4    0.0  7.5  16.0  1.0  11.0\n",
       "2  10.7    0.0  8.6  16.5  1.0  10.5\n",
       "3  19.3    0.0  8.5  18.9  0.8  10.0\n",
       "4   0.0    0.0  0.4  14.4  0.0   6.4"
      ]
     },
     "metadata": {},
     "output_type": "display_data"
    }
   ],
   "source": [
    "# load data jakarta\n",
    "data_jakarta = pd.read_csv('data_mentah_jakarta.csv')\n",
    "\n",
    "# pick pm_10, pm_duakomalima, so2, co, o3, no2\n",
    "columns_jakarta2 = [\"pm_10\", \"pm_duakomalima\", \"so2\", \"co\", \"o3\", \"no2\", \"categori\"]\n",
    "data_jakarta = data_jakarta[columns_jakarta2]\n",
    "\n",
    "# load data yogyakarta\n",
    "data_yogyakarta = pd.read_csv('data_mentah_yogyakarta.csv')\n",
    "\n",
    "# pick PM10,PM2.5,SO2,CO,O3,NO2\n",
    "columns_yogyakarta2 = [\"PM10\", \"PM2.5\", \"SO2\", \"CO\", \"O3\", \"NO2\"]\n",
    "data_yogyakarta = data_yogyakarta[columns_yogyakarta2]\n",
    "\n",
    "# rename columns to pm10, pm2_5, so2, co, o3, no2, kualitas\n",
    "data_jakarta.columns = [\"pm10\", \"pm2_5\", \"so2\", \"co\", \"o3\", \"no2\", \"kualitas\"]\n",
    "data_yogyakarta.columns = [\"pm10\", \"pm2_5\", \"so2\", \"co\", \"o3\", \"no2\"]\n",
    "\n",
    "# save to csv files\n",
    "data_jakarta.to_csv('data_jakarta.csv', index=False)\n",
    "data_yogyakarta.to_csv('data_yogyakarta.csv', index=False)\n",
    "\n",
    "display(\n",
    "  data_jakarta.head(),\n",
    "  data_yogyakarta.head()\n",
    ")"
   ]
  },
  {
   "cell_type": "markdown",
   "metadata": {},
   "source": [
    "# SVM"
   ]
  },
  {
   "cell_type": "code",
   "execution_count": null,
   "metadata": {},
   "outputs": [],
   "source": []
  }
 ],
 "metadata": {
  "kernelspec": {
   "display_name": "kerasenv",
   "language": "python",
   "name": "python3"
  },
  "language_info": {
   "codemirror_mode": {
    "name": "ipython",
    "version": 3
   },
   "file_extension": ".py",
   "mimetype": "text/x-python",
   "name": "python",
   "nbconvert_exporter": "python",
   "pygments_lexer": "ipython3",
   "version": "3.11.5"
  }
 },
 "nbformat": 4,
 "nbformat_minor": 2
}
